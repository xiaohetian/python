{
 "cells": [
  {
   "cell_type": "code",
   "execution_count": 3,
   "metadata": {},
   "outputs": [],
   "source": [
    "import numpy as np"
   ]
  },
  {
   "cell_type": "code",
   "execution_count": 5,
   "metadata": {},
   "outputs": [
    {
     "name": "stdout",
     "output_type": "stream",
     "text": [
      "[1 2 3]\n"
     ]
    }
   ],
   "source": [
    "a = np.array([1,2,3])\n",
    "print(a)"
   ]
  },
  {
   "cell_type": "code",
   "execution_count": 9,
   "metadata": {},
   "outputs": [
    {
     "name": "stdout",
     "output_type": "stream",
     "text": [
      "[[1 2 3]\n",
      " [4 5 6]]\n"
     ]
    }
   ],
   "source": [
    "a = np.array([[1,2,3],[4,5,6]])\n",
    "print(a)"
   ]
  },
  {
   "cell_type": "code",
   "execution_count": 10,
   "metadata": {},
   "outputs": [
    {
     "name": "stdout",
     "output_type": "stream",
     "text": [
      "[[1.+0.j 2.+0.j 3.+0.j]\n",
      " [4.+0.j 5.+0.j 6.+0.j]]\n"
     ]
    }
   ],
   "source": [
    "a = np.array([[1,2,3],[4,5,6]], dtype = complex)\n",
    "print(a)"
   ]
  },
  {
   "cell_type": "code",
   "execution_count": 11,
   "metadata": {},
   "outputs": [
    {
     "name": "stdout",
     "output_type": "stream",
     "text": [
      "[[1. 2. 3.]\n",
      " [4. 5. 6.]]\n"
     ]
    }
   ],
   "source": [
    "a = np.array([[1,2,3],[4,5,6]], dtype = float)\n",
    "print(a)"
   ]
  },
  {
   "cell_type": "code",
   "execution_count": 17,
   "metadata": {},
   "outputs": [
    {
     "name": "stdout",
     "output_type": "stream",
     "text": [
      "[[1 2 3]\n",
      " [4 5 6]]\n"
     ]
    }
   ],
   "source": [
    "a = np.array([[1,2,3],[4,5,6]])\n",
    "print(a)"
   ]
  },
  {
   "cell_type": "code",
   "execution_count": 19,
   "metadata": {},
   "outputs": [
    {
     "name": "stdout",
     "output_type": "stream",
     "text": [
      "int32\n"
     ]
    }
   ],
   "source": [
    "dt = np.dtype(np.int32)\n",
    "print(dt)"
   ]
  },
  {
   "cell_type": "code",
   "execution_count": 20,
   "metadata": {},
   "outputs": [
    {
     "name": "stdout",
     "output_type": "stream",
     "text": [
      "int32\n"
     ]
    }
   ],
   "source": [
    "# int8, int16, int32,int64 四种数据类型可以使用字符串‘i1,i2,i4,i8'代替\n",
    "dt = np.dtype('i4')\n",
    "print(dt)"
   ]
  },
  {
   "cell_type": "code",
   "execution_count": 22,
   "metadata": {},
   "outputs": [
    {
     "name": "stdout",
     "output_type": "stream",
     "text": [
      "[('name', 'S20'), ('age', 'i1'), ('marks', '<f4')]\n",
      "[(b'abc', 21, 50.) (b'xyz', 18, 75.)]\n"
     ]
    }
   ],
   "source": [
    "student = np.dtype([('name','S20'),('age','i1'),('marks','f4')])\n",
    "print(student)\n",
    "a = np.array([('abc',21,50),('xyz',18,75)], dtype = student)\n",
    "print(a)"
   ]
  },
  {
   "cell_type": "code",
   "execution_count": 24,
   "metadata": {},
   "outputs": [
    {
     "name": "stdout",
     "output_type": "stream",
     "text": [
      "1\n",
      "3\n"
     ]
    }
   ],
   "source": [
    "a = np.arange(24)\n",
    "print(a.ndim) # a 现在只有一个维度\n",
    "# 现在调整其大小\n",
    "b = a.reshape(2,4,3)\n",
    "print(b.ndim)"
   ]
  },
  {
   "cell_type": "code",
   "execution_count": 26,
   "metadata": {},
   "outputs": [
    {
     "name": "stdout",
     "output_type": "stream",
     "text": [
      "[ 0  1  2  3  4  5  6  7  8  9 10 11 12 13 14 15 16 17 18 19 20 21 22 23]\n",
      "[[[ 0  1  2]\n",
      "  [ 3  4  5]\n",
      "  [ 6  7  8]\n",
      "  [ 9 10 11]]\n",
      "\n",
      " [[12 13 14]\n",
      "  [15 16 17]\n",
      "  [18 19 20]\n",
      "  [21 22 23]]]\n"
     ]
    }
   ],
   "source": [
    "print(a)\n",
    "print(b)"
   ]
  },
  {
   "cell_type": "code",
   "execution_count": 27,
   "metadata": {},
   "outputs": [
    {
     "name": "stdout",
     "output_type": "stream",
     "text": [
      "(2, 4, 3)\n"
     ]
    }
   ],
   "source": [
    "print(b.shape)"
   ]
  },
  {
   "cell_type": "code",
   "execution_count": 30,
   "metadata": {},
   "outputs": [
    {
     "name": "stdout",
     "output_type": "stream",
     "text": [
      "[[ 0  1  2  3  4  5  6  7]\n",
      " [ 8  9 10 11 12 13 14 15]\n",
      " [16 17 18 19 20 21 22 23]]\n"
     ]
    }
   ],
   "source": [
    "# 调整数组 大小\n",
    "a.shape = (3,8) #总数据数量不能小于原数量，否则出错\n",
    "print(a)"
   ]
  },
  {
   "cell_type": "code",
   "execution_count": 32,
   "metadata": {},
   "outputs": [
    {
     "name": "stdout",
     "output_type": "stream",
     "text": [
      "[[ 0  1  2  3]\n",
      " [ 4  5  6  7]\n",
      " [ 8  9 10 11]\n",
      " [12 13 14 15]\n",
      " [16 17 18 19]\n",
      " [20 21 22 23]]\n"
     ]
    }
   ],
   "source": [
    "c = a.reshape(6,4)\n",
    "print(c)"
   ]
  },
  {
   "cell_type": "code",
   "execution_count": 33,
   "metadata": {},
   "outputs": [
    {
     "name": "stdout",
     "output_type": "stream",
     "text": [
      "  C_CONTIGUOUS : True\n",
      "  F_CONTIGUOUS : False\n",
      "  OWNDATA : False\n",
      "  WRITEABLE : True\n",
      "  ALIGNED : True\n",
      "  WRITEBACKIFCOPY : False\n",
      "  UPDATEIFCOPY : False\n"
     ]
    }
   ],
   "source": [
    "print(c.flags)"
   ]
  },
  {
   "cell_type": "code",
   "execution_count": 42,
   "metadata": {},
   "outputs": [
    {
     "name": "stdout",
     "output_type": "stream",
     "text": [
      "[[4607182418800017408 4611686018427387904]\n",
      " [4613937818241073152 4616189618054758400]\n",
      " [4617315517961601024 4618441417868443648]]\n"
     ]
    }
   ],
   "source": [
    "#1、 numpy.empty 方法用来创建一个指定形状（shape）、数据类型（dtype）且未初始化的数组：\n",
    "# numpy.empty(shape, dtype = float, order = 'C') \n",
    "x = np.empty([3,2],dtype ='i8')\n",
    "print(x)"
   ]
  },
  {
   "cell_type": "code",
   "execution_count": 50,
   "metadata": {},
   "outputs": [
    {
     "name": "stdout",
     "output_type": "stream",
     "text": [
      "**************** X *****************\n",
      "[0. 0. 0. 0. 0.]\n",
      "**************** Y *****************\n",
      "[0 0 0 0 0]\n",
      "***************** Z ****************\n",
      "[[(0, 0) (0, 0)]\n",
      " [(0, 0) (0, 0)]]\n"
     ]
    }
   ],
   "source": [
    "#2、numpy.zeros 创建指定大小的数组，数组元素以0来填充\n",
    "# numpy.empty(shape, dtype = float, order = 'C')\n",
    "print(\"**************** X *****************\")\n",
    "x = np.zeros(5) #默认为浮点数\n",
    "print(x)\n",
    "# 设置类型为整数\n",
    "print(\"**************** Y *****************\")\n",
    "y = np.zeros((5,), dtype= np.int)\n",
    "print(y)\n",
    "# 自定义类型\n",
    "print(\"***************** Z ****************\")\n",
    "z = np.zeros((2,2), dtype = [('x','i4'),('y', 'i8')])\n",
    "print(z)"
   ]
  },
  {
   "cell_type": "code",
   "execution_count": 52,
   "metadata": {},
   "outputs": [
    {
     "name": "stdout",
     "output_type": "stream",
     "text": [
      "[1. 1. 1. 1. 1.]\n",
      "*********************************\n",
      "[1 1]\n"
     ]
    }
   ],
   "source": [
    "#3、numpy.ones 创建指定形状的数组 ，数组元素以1来填充\n",
    "# 默认为浮点娄\n",
    "x = np.ones(5)\n",
    "print(x)\n",
    "print(\"*********************************\")\n",
    "# 自定义类型\n",
    "x = np.ones([2,], dtype = 'i4')\n",
    "print(x)"
   ]
  },
  {
   "cell_type": "code",
   "execution_count": 57,
   "metadata": {},
   "outputs": [
    {
     "name": "stdout",
     "output_type": "stream",
     "text": [
      "[1 2 3]\n"
     ]
    }
   ],
   "source": [
    "# 从已有的数组 创建数组\n",
    "# numpy.asarray\n",
    "# numpy.asarray(a,dtype = None, order = None)\n",
    "# a  任意形式的输入参数，可以是，列表、列表的元组，元组，元组的元组，元组的列表，多给数组\n",
    "# dtype 数据类型，可选\n",
    "# order 可选，“C”：行优先“F”：列优先  ，在计算机内存中的存储元素的顺序。\n",
    "import numpy as np\n",
    "\n",
    "x = [1,2,3]\n",
    "a = np.asarray(x)\n",
    "print(a)"
   ]
  },
  {
   "cell_type": "code",
   "execution_count": 58,
   "metadata": {},
   "outputs": [
    {
     "name": "stdout",
     "output_type": "stream",
     "text": [
      "[1 2 3]\n"
     ]
    }
   ],
   "source": [
    "# 将元组转换为 ndarray:\n",
    "x = (1,2,3)\n",
    "a = np.asarray(x)\n",
    "print(a)"
   ]
  },
  {
   "cell_type": "code",
   "execution_count": 59,
   "metadata": {},
   "outputs": [
    {
     "name": "stdout",
     "output_type": "stream",
     "text": [
      "[(1, 2, 3) (4, 5)]\n"
     ]
    }
   ],
   "source": [
    "# 将元组列表转换为ndarray\n",
    "\n",
    "x = [(1,2,3),(4,5)]\n",
    "a = np.asarray(x)\n",
    "print(a)"
   ]
  },
  {
   "cell_type": "code",
   "execution_count": 60,
   "metadata": {},
   "outputs": [
    {
     "name": "stdout",
     "output_type": "stream",
     "text": [
      "[1. 2. 3.]\n"
     ]
    }
   ],
   "source": [
    "#设置了dtype参数：\n",
    "x = [1,2,3]\n",
    "a = np.asarray(x,dtype = float)\n",
    "print(a)"
   ]
  },
  {
   "cell_type": "code",
   "execution_count": 63,
   "metadata": {},
   "outputs": [
    {
     "name": "stdout",
     "output_type": "stream",
     "text": [
      "[b'H' b'e' b'l' b'l' b'o' b' ' b'w' b'o' b'r' b'l' b'd']\n"
     ]
    }
   ],
   "source": [
    "#4、numpy.frombuffer 用于实现动态数组，接受buffer输入参数，以流的形式转化成ndarray对象\n",
    "# numpy.frombuffer(buffer,dtype= float, count = -1,offset = 0)\n",
    "# buffer是字符串的时候，Python3默认str是Unicode类型，所以要转成bytestring在原str前加上b\n",
    "# buffer 可以是任意对象，会以流的形式读入 dtype 返回数组 的数据类型，可选\n",
    "# count 读取的数据数量，默认为-1，读取所有数据\n",
    "# offset 读取的起始位置，默认为0\n",
    "\n",
    "s = b\"Hello world\"\n",
    "a = np.frombuffer(s, dtype = \"S1\")\n",
    "print(a)"
   ]
  },
  {
   "cell_type": "code",
   "execution_count": 64,
   "metadata": {},
   "outputs": [
    {
     "name": "stdout",
     "output_type": "stream",
     "text": [
      "[0. 1. 2. 3. 4.]\n"
     ]
    }
   ],
   "source": [
    "#5 、numpy.fromiter 从可迭代对象中建立ndarray对象，返回一维数组 。\n",
    "# numpy.fromiter(iterable, dtype, count = -1)   count 读取数据数量，默认为-1，读取所有数据\n",
    "\n",
    "#使用range 函数创建列表对象\n",
    "list = range(5)\n",
    "it = iter(list)\n",
    "\n",
    "# 使用迭代器创建 ndarray\n",
    "x = np.fromiter(it, dtype = float)\n",
    "print(x)\n"
   ]
  },
  {
   "cell_type": "code",
   "execution_count": 65,
   "metadata": {},
   "outputs": [
    {
     "name": "stdout",
     "output_type": "stream",
     "text": [
      "[0 1 2 3 4]\n"
     ]
    }
   ],
   "source": [
    "# 5、numpy.arange 从数值范围创建数组\n",
    "# numpy.arange(start, stop, step, dtype)\n",
    "# start 起始值：默认为0 stop:终止值（不包括）step: 步长，默认为1\n",
    "# dtype 返回ndarray的数据类型， 如果没有提供，则会使用输入数据的类型\n",
    "x = np.arange(5)\n",
    "print(x)\n"
   ]
  },
  {
   "cell_type": "code",
   "execution_count": 66,
   "metadata": {},
   "outputs": [
    {
     "name": "stdout",
     "output_type": "stream",
     "text": [
      "[0. 1. 2. 3. 4.]\n"
     ]
    }
   ],
   "source": [
    "# 设置返回类型 dtype\n",
    "x = np.arange(5, dtype = float)\n",
    "print(x)"
   ]
  },
  {
   "cell_type": "code",
   "execution_count": 68,
   "metadata": {},
   "outputs": [
    {
     "name": "stdout",
     "output_type": "stream",
     "text": [
      "[10 12 14 16 18]\n"
     ]
    }
   ],
   "source": [
    "#设置起始值，终止值及步长\n",
    "x = np.arange(10,20,2)\n",
    "print(x)"
   ]
  },
  {
   "cell_type": "code",
   "execution_count": 71,
   "metadata": {},
   "outputs": [
    {
     "name": "stdout",
     "output_type": "stream",
     "text": [
      "[ 1.  2.  3.  4.  5.  6.  7.  8.  9. 10.]\n"
     ]
    }
   ],
   "source": [
    "#numpy.linspace 用于创建一个一维数组 ，数组 是一个等差数列构成的，格式如下：\n",
    "# np.linspace(start, stop, num = 50, endpoint = True, restep = Flase, dtype = None)\n",
    "\n",
    "#endpoint 为True时，数列 中包含stop的值，反之不包含，默认是True\n",
    "#retstep 为True时，生成的数组中会显示 间距，反之不显示 \n",
    "\n",
    "a = np.linspace(1,10,10)\n",
    "print(a)"
   ]
  },
  {
   "cell_type": "code",
   "execution_count": 74,
   "metadata": {},
   "outputs": [
    {
     "name": "stdout",
     "output_type": "stream",
     "text": [
      "(array([ 1.,  2.,  3.,  4.,  5.,  6.,  7.,  8.,  9., 10.]), 1.0)\n"
     ]
    }
   ],
   "source": [
    "a = np.linspace(1,10,10,retstep = True)\n",
    "print(a)"
   ]
  },
  {
   "cell_type": "code",
   "execution_count": 76,
   "metadata": {},
   "outputs": [
    {
     "name": "stdout",
     "output_type": "stream",
     "text": [
      "[1. 1. 1. 1. 1. 1. 1. 1. 1. 1.]\n"
     ]
    }
   ],
   "source": [
    "a = np.linspace(1,1,10)\n",
    "print(a)"
   ]
  },
  {
   "cell_type": "code",
   "execution_count": 77,
   "metadata": {},
   "outputs": [
    {
     "name": "stdout",
     "output_type": "stream",
     "text": [
      "[1.   1.25 1.5  1.75 2.  ]\n"
     ]
    }
   ],
   "source": [
    "a = np.linspace(1,2,5)\n",
    "print(a)"
   ]
  },
  {
   "cell_type": "code",
   "execution_count": 78,
   "metadata": {},
   "outputs": [
    {
     "name": "stdout",
     "output_type": "stream",
     "text": [
      "[[ 1.]\n",
      " [ 2.]\n",
      " [ 3.]\n",
      " [ 4.]\n",
      " [ 5.]\n",
      " [ 6.]\n",
      " [ 7.]\n",
      " [ 8.]\n",
      " [ 9.]\n",
      " [10.]]\n"
     ]
    }
   ],
   "source": [
    "#拓展例子\n",
    "\n",
    "b = np.linspace(1,10,10).reshape([10, 1])\n",
    "print(b)"
   ]
  },
  {
   "cell_type": "code",
   "execution_count": 79,
   "metadata": {},
   "outputs": [
    {
     "name": "stdout",
     "output_type": "stream",
     "text": [
      "[ 10.          12.91549665  16.68100537  21.5443469   27.82559402\n",
      "  35.93813664  46.41588834  59.94842503  77.42636827 100.        ]\n"
     ]
    }
   ],
   "source": [
    "#numpy.logspace 函数用于创建一个等比数列 格式如下 ：\n",
    "#numpy.logspace(start, stop, num = 50, endpoint = True, bas = 10.0, dtype =None)\n",
    "#base 参数意思是取对数的时候 log 的下标。\n",
    "#start 起始值为：base**start,base的start次方，也就是数学中对数的真值\n",
    "#stop  终止值为：base**stop.如果 endpoint为Trye，该值包含于数列 中\n",
    "#num 要生成的等步长的样本数量，默认为50\n",
    "#endpoint 默认为True\n",
    "#默认底数是10\n",
    "a = np.logspace(1.0, 2.0,num = 10 )\n",
    "print(a)"
   ]
  },
  {
   "cell_type": "code",
   "execution_count": 81,
   "metadata": {},
   "outputs": [
    {
     "name": "stdout",
     "output_type": "stream",
     "text": [
      "[  1.   2.   4.   8.  16.  32.  64. 128. 256. 512.]\n"
     ]
    }
   ],
   "source": [
    "#将对数的底数设置为2\n",
    "a = np.logspace(0,9,10,base = 2)\n",
    "print(a)"
   ]
  },
  {
   "cell_type": "code",
   "execution_count": null,
   "metadata": {},
   "outputs": [],
   "source": []
  }
 ],
 "metadata": {
  "kernelspec": {
   "display_name": "Python 3",
   "language": "python",
   "name": "python3"
  },
  "language_info": {
   "codemirror_mode": {
    "name": "ipython",
    "version": 3
   },
   "file_extension": ".py",
   "mimetype": "text/x-python",
   "name": "python",
   "nbconvert_exporter": "python",
   "pygments_lexer": "ipython3",
   "version": "3.7.3"
  }
 },
 "nbformat": 4,
 "nbformat_minor": 2
}

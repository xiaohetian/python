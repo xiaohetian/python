{
 "cells": [
  {
   "cell_type": "code",
   "execution_count": 30,
   "metadata": {},
   "outputs": [
    {
     "name": "stdout",
     "output_type": "stream",
     "text": [
      "x的值：\n",
      "[[0 0 0 0 0 0 0 0]\n",
      " [0 0 0 0 0 0 0 0]\n",
      " [0 0 0 0 0 0 0 0]\n",
      " [0 0 0 0 0 0 0 0]\n",
      " [0 0 0 0 0 0 0 0]]\n",
      "\n",
      "\n",
      "x+y的值：\n",
      "[[1 1 2 2 3 3 4 5]\n",
      " [1 1 2 2 3 3 4 5]\n",
      " [1 1 2 2 3 3 4 5]\n",
      " [1 1 2 2 3 3 4 5]\n",
      " [1 1 2 2 3 3 4 5]]\n",
      "\n",
      "\n",
      "z的值：\n",
      "[ 1  3  5  7  9 11 13 15]\n",
      "\n",
      "\n",
      "x+z的值：\n",
      "\n",
      "\n",
      "[[ 1  3  5  7  9 11 13 15]\n",
      " [ 1  3  5  7  9 11 13 15]\n",
      " [ 1  3  5  7  9 11 13 15]\n",
      " [ 1  3  5  7  9 11 13 15]\n",
      " [ 1  3  5  7  9 11 13 15]]\n",
      "\n",
      "\n",
      "a+b的值：\n",
      "[[ 2  4  7  9 12 14 17 20]\n",
      " [ 2  4  7  9 12 14 17 20]\n",
      " [ 2  4  7  9 12 14 17 20]\n",
      " [ 2  4  7  9 12 14 17 20]\n",
      " [ 2  4  7  9 12 14 17 20]]\n"
     ]
    }
   ],
   "source": [
    "import numpy as np\n",
    "x = np.zeros((5,8),dtype = 'i4')\n",
    "y = np.linspace(1, 5, 8,dtype = 'i4')\n",
    "z = np.arange(1,16,2)\n",
    "a = x + y\n",
    "b = x + z\n",
    "c = a +b\n",
    "print(\"x的值：\")\n",
    "print(x)\n",
    "print(\"\\n\")\n",
    "print(\"x+y的值：\") #触发广播\n",
    "print(a)\n",
    "print(\"\\n\")\n",
    "print(\"z的值：\")\n",
    "print(z)\n",
    "print(\"\\n\")\n",
    "print(\"x+z的值：\") #触发广播\n",
    "print(\"\\n\")\n",
    "print(b)\n",
    "print(\"\\n\")\n",
    "print(\"a+b的值：\")\n",
    "print(c)\n",
    "#print(a*b)"
   ]
  },
  {
   "cell_type": "code",
   "execution_count": 31,
   "metadata": {},
   "outputs": [
    {
     "name": "stdout",
     "output_type": "stream",
     "text": [
      "原始数据是：\n",
      "[[0 1 2]\n",
      " [3 4 5]]\n",
      "\n",
      "\n",
      "迭代输出元素：\n",
      "0,1,2,3,4,5,\n",
      "\n"
     ]
    }
   ],
   "source": [
    "# 8 、numpy 迭代数组\n",
    "# numpy迭代器对象 numpy.nditer\n",
    "import numpy as np\n",
    "\n",
    "a = np.arange(6).reshape(2,3)\n",
    "print(\"原始数据是：\")\n",
    "print(a)\n",
    "print(\"\\n\")\n",
    "\n",
    "print(\"迭代输出元素：\")\n",
    "for x in np.nditer(a):\n",
    "    print(x, end=\",\")\n",
    "print('\\n')\n"
   ]
  },
  {
   "cell_type": "code",
   "execution_count": 33,
   "metadata": {},
   "outputs": [
    {
     "name": "stdout",
     "output_type": "stream",
     "text": [
      "0, 1, 2, 3, 4, 5, \n",
      "\n",
      "0, 3, 1, 4, 2, 5, \n",
      "\n"
     ]
    }
   ],
   "source": [
    "import numpy as np\n",
    " \n",
    "a = np.arange(6).reshape(2,3)\n",
    "for x in np.nditer(a.T):\n",
    "    print (x, end=\", \" )\n",
    "print ('\\n')\n",
    " \n",
    "for x in np.nditer(a.T.copy(order='C')):  #通过迭代上述数组的转置来看到这一点，\n",
    "                                         #并与以 C 顺序访问数组转置的 copy 方式做对比\n",
    "    print (x, end=\", \" )\n",
    "print ('\\n')"
   ]
  },
  {
   "cell_type": "code",
   "execution_count": 35,
   "metadata": {},
   "outputs": [
    {
     "name": "stdout",
     "output_type": "stream",
     "text": [
      "原始数组是：\n",
      "[[ 0  5 10 15]\n",
      " [20 25 30 35]\n",
      " [40 45 50 55]]\n",
      "\n",
      "\n",
      "原始数组的转置是：\n",
      "[[ 0 20 40]\n",
      " [ 5 25 45]\n",
      " [10 30 50]\n",
      " [15 35 55]]\n",
      "\n",
      "\n",
      "以C风格顺序排序：\n",
      "[[ 0 20 40]\n",
      " [ 5 25 45]\n",
      " [10 30 50]\n",
      " [15 35 55]]\n",
      "0,20,40,5,25,45,10,30,50,15,35,55,\n",
      "\n",
      "以F风格顺序排序：\n",
      "[[ 0 20 40]\n",
      " [ 5 25 45]\n",
      " [10 30 50]\n",
      " [15 35 55]]\n",
      "0,5,10,15,20,25,30,35,40,45,50,55,"
     ]
    }
   ],
   "source": [
    "# 控制遍历顺序 #for x in np.nditer(a, order='F'):Fortran order，即是列序优先；\n",
    "# for x in np.nditer(a.T, order='C'):C order，即是行序优先；  \n",
    "import numpy as np\n",
    "\n",
    "a = np.arange(0, 60, 5).reshape(3,4)\n",
    "print('原始数组是：')\n",
    "print(a)\n",
    "print('\\n')\n",
    "print('原始数组的转置是：')\n",
    "b = a.T\n",
    "print(b)\n",
    "print('\\n')\n",
    "print('以C风格顺序排序：')\n",
    "c = b.copy(order = 'C')\n",
    "print(c)\n",
    "for x in np.nditer(c):\n",
    "    print(x, end = ',')\n",
    "print('\\n')\n",
    "print('以F风格顺序排序：')\n",
    "c = b.copy(order = 'F')\n",
    "print(c)\n",
    "for x in np.nditer(c):\n",
    "    print(x, end = ',')"
   ]
  },
  {
   "cell_type": "code",
   "execution_count": 37,
   "metadata": {},
   "outputs": [
    {
     "name": "stdout",
     "output_type": "stream",
     "text": [
      "原始数组是：\n",
      "[[ 0  5 10 15]\n",
      " [20 25 30 35]\n",
      " [40 45 50 55]]\n",
      "\n",
      "\n",
      "修改后的数组是:\n",
      "[[  0  10  20  30]\n",
      " [ 40  50  60  70]\n",
      " [ 80  90 100 110]]\n"
     ]
    }
   ],
   "source": [
    "# 修改数组中元素的值\n",
    "# nditer对象有另一个可先参数op_flags，默认情况下，nditer交视待迭代遍历的数组 为只读对象(read-only)\n",
    "# 为了在遍历数组的同时，实现对数组元素值进行修改，必须指定read-write 或者是write-only模式\n",
    "\n",
    "import numpy as np\n",
    "a =np.arange(0,60,5).reshape(3,4)\n",
    "print('原始数组是：')\n",
    "print(a)\n",
    "print('\\n')\n",
    "for x in np.nditer(a, op_flags = ['readwrite']):\n",
    "    x[...] = 2 * x\n",
    "print('修改后的数组是:')\n",
    "print(a)"
   ]
  },
  {
   "cell_type": "code",
   "execution_count": 38,
   "metadata": {},
   "outputs": [
    {
     "name": "stdout",
     "output_type": "stream",
     "text": [
      "第一个数组为：\n",
      "[[ 0  5 10 15]\n",
      " [20 25 30 35]\n",
      " [40 45 50 55]]\n",
      "\n",
      "\n",
      "第二个数组为：\n",
      "[1 2 3 4]\n",
      "\n",
      "\n",
      "修改后的数组为：\n",
      "0:1,5:2,10:3,15:4,20:1,25:2,30:3,35:4,40:1,45:2,50:3,55:4,"
     ]
    }
   ],
   "source": [
    "# 广播迭代\n",
    "# 如果两个数组是可广播的，nditer组合对象同时迭代它们\n",
    "import numpy as np\n",
    "\n",
    "a = np.arange(0,60,5).reshape(3,4)\n",
    "print('第一个数组为：')\n",
    "print(a)\n",
    "print('\\n')\n",
    "print('第二个数组为：')\n",
    "b = np.array([1, 2, 3, 4], dtype =int)\n",
    "print(b)\n",
    "print('\\n')\n",
    "print('修改后的数组为：')\n",
    "for  x,y in np.nditer([a, b]):\n",
    "    print(\"%d:%d\" % (x,y),end = ',')\n"
   ]
  },
  {
   "cell_type": "code",
   "execution_count": 39,
   "metadata": {},
   "outputs": [],
   "source": [
    "# 9、numpy 数组操作\n",
    "# numpy中含了以下用于处理数组的常用函数\n",
    "# 1）修改数组形状 2）翻转数组 3）修改数组维度\n",
    "# 4） 连接数组 5）分割数组 6）数组元素的添加与删除\n",
    "\n"
   ]
  },
  {
   "cell_type": "code",
   "execution_count": 41,
   "metadata": {},
   "outputs": [
    {
     "name": "stdout",
     "output_type": "stream",
     "text": [
      "原始数组是：\n",
      "[0 1 2 3 4 5 6 7]\n",
      "\n",
      "\n",
      "修改后的数组是：\n",
      "[[0 1]\n",
      " [2 3]\n",
      " [4 5]\n",
      " [6 7]]\n"
     ]
    }
   ],
   "source": [
    "# 1）修改数组形状  \n",
    "#  reshape 不改变数据的条件下修改形状\n",
    "# 格式：numpy.reshape(arr, newshape, order = 'C')\n",
    "# arr 要修改形状的数组\n",
    "# newshape: 整数或者整数数组，新的形状应当兼容原有形状\n",
    "# order:'C'--按行，‘F’--按列，‘A’-按顺序，‘k'--按元素在内存中的出现的顺序\n",
    "#实例：\n",
    "import numpy as np\n",
    "\n",
    "a = np.arange(8)\n",
    "print('原始数组是：')\n",
    "print(a)\n",
    "print('\\n')\n",
    "\n",
    "b = a.reshape(4,2)\n",
    "print('修改后的数组是：')\n",
    "print(b)\n"
   ]
  },
  {
   "cell_type": "code",
   "execution_count": 43,
   "metadata": {},
   "outputs": [
    {
     "name": "stdout",
     "output_type": "stream",
     "text": [
      "原始数组：\n",
      "[0 1 2]\n",
      "[3 4 5]\n",
      "[6 7 8]\n",
      "迭代后的数组 ：\n",
      "0\n",
      "1\n",
      "2\n",
      "3\n",
      "4\n",
      "5\n",
      "6\n",
      "7\n",
      "8\n"
     ]
    }
   ],
   "source": [
    "# flat 数组元素迭代器\n",
    "import numpy as np\n",
    "\n",
    "a = np.arange(9).reshape(3,3)\n",
    "print(\"原始数组：\")\n",
    "for row in a:\n",
    "    print(row)\n",
    "# 对数组中每个元素都进行处理，可以使用flat属性，该属性是一个数组元素迭代器：\n",
    "print(\"迭代后的数组 ：\")\n",
    "for element in a.flat:\n",
    "    print(element)"
   ]
  },
  {
   "cell_type": "code",
   "execution_count": 45,
   "metadata": {},
   "outputs": [
    {
     "name": "stdout",
     "output_type": "stream",
     "text": [
      "原数组：\n",
      "[[0 1 2 3]\n",
      " [4 5 6 7]]\n",
      "\n",
      "\n",
      "展开的数组：\n",
      "[0 1 2 3 4 5 6 7]\n",
      "\n",
      "\n",
      "以F 风格顺序展开的数组：\n",
      "[0 4 1 5 2 6 3 7]\n"
     ]
    }
   ],
   "source": [
    "# flatten 返回一份数组拷贝，对拷贝的修改不会影响原始数组\n",
    "# numpy.ndarray.flatten 返回一份数组拷贝，对拷贝所做的修改不会影响原始数组，格式如下：\n",
    "# numpy.flatten(order='c')\n",
    "\n",
    "import numpy as np\n",
    "a = np.arange(8).reshape(2,4)\n",
    "\n",
    "print('原数组：')\n",
    "print(a)\n",
    "print('\\n')\n",
    "print ('展开的数组：')\n",
    "print(a.flatten())\n",
    "print('\\n')\n",
    "\n",
    "print('以F 风格顺序展开的数组：')\n",
    "print(a.flatten(order = 'F'))\n",
    "\n"
   ]
  },
  {
   "cell_type": "code",
   "execution_count": 48,
   "metadata": {},
   "outputs": [
    {
     "name": "stdout",
     "output_type": "stream",
     "text": [
      "原数组：\n",
      "[[0 1 2 3]\n",
      " [4 5 6 7]]\n",
      "\n",
      "\n",
      "调用 revel 函数之后：\n",
      "[0 1 2 3 4 5 6 7]\n",
      "\n",
      "\n",
      "以F 风格顺序调用ravel 函数之后：\n",
      "[0 4 1 5 2 6 3 7]\n"
     ]
    }
   ],
   "source": [
    "# ravel 返回展开数组\n",
    "# numpy.revel() 展开数组元素，顺序通常是“C风格”，返回的是数组的视图（view,有点类似\n",
    "# C/C++引用reference的意味），修改会影响原始数组 该函数接收两个参数：\n",
    "# numpy.revel(a,order = 'c')\n",
    "# order: 'C'--按行，'F'--按列，‘A’--原顺序，‘K’--元素在内存中的出现顺序\n",
    "#实例：\n",
    "import numpy as np\n",
    "\n",
    "a = np.arange(8).reshape(2,4)\n",
    "print('原数组：')\n",
    "print(a)\n",
    "print('\\n')\n",
    "\n",
    "print('调用 revel 函数之后：')\n",
    "print(a.ravel())\n",
    "print('\\n')\n",
    "\n",
    "print('以F 风格顺序调用ravel 函数之后：')\n",
    "print(a.ravel(order = \"F\"))"
   ]
  },
  {
   "cell_type": "code",
   "execution_count": 49,
   "metadata": {},
   "outputs": [],
   "source": [
    "#翻转数组：\n",
    "#numpy.transpose 函数用于对换数组的维度，格式如下 ：\n",
    "# numpy.transpose(arr,axes)\n",
    "# arr 要操作的数组\n",
    "# axes 整数列表，对应维度，通常所有维度都会对换"
   ]
  },
  {
   "cell_type": "code",
   "execution_count": 50,
   "metadata": {},
   "outputs": [
    {
     "name": "stdout",
     "output_type": "stream",
     "text": [
      "原数组：\n",
      "[[ 0  1  2  3]\n",
      " [ 4  5  6  7]\n",
      " [ 8  9 10 11]]\n",
      "\n",
      "\n",
      "对换数组：\n",
      "[[ 0  4  8]\n",
      " [ 1  5  9]\n",
      " [ 2  6 10]\n",
      " [ 3  7 11]]\n"
     ]
    }
   ],
   "source": [
    "import numpy as np\n",
    " \n",
    "a = np.arange(12).reshape(3,4)\n",
    " \n",
    "print ('原数组：')\n",
    "print (a )\n",
    "print ('\\n')\n",
    " \n",
    "print ('对换数组：')\n",
    "print (np.transpose(a))"
   ]
  },
  {
   "cell_type": "code",
   "execution_count": 51,
   "metadata": {},
   "outputs": [
    {
     "name": "stdout",
     "output_type": "stream",
     "text": [
      "原数组：\n",
      "[[ 0  1  2  3]\n",
      " [ 4  5  6  7]\n",
      " [ 8  9 10 11]]\n",
      "\n",
      "\n",
      "对换数组：\n",
      "[[ 0  4  8]\n",
      " [ 1  5  9]\n",
      " [ 2  6 10]\n",
      " [ 3  7 11]]\n"
     ]
    }
   ],
   "source": [
    "#numpy.ndarray.T 类似 numpy.transpose：\n",
    "import numpy as np\n",
    " \n",
    "a = np.arange(12).reshape(3,4)\n",
    " \n",
    "print ('原数组：')\n",
    "print (a )\n",
    "print ('\\n')\n",
    " \n",
    "print ('对换数组：')\n",
    "print (a.T)"
   ]
  },
  {
   "cell_type": "code",
   "execution_count": 52,
   "metadata": {},
   "outputs": [],
   "source": [
    "#numpy.rollaxis\n",
    "# numpy.rollaxis 函数向后滚动特定的轴到一个特定位置，格式如下：\n",
    "#numpy.rollaxis(arr, axis, start)\n",
    "#参数说明：\n",
    "\n",
    "#arr：数组\n",
    "#axis：要向后滚动的轴，其它轴的相对位置不会改变\n",
    "#start：默认为零，表示完整的滚动。会滚动到特定位置。"
   ]
  },
  {
   "cell_type": "code",
   "execution_count": 53,
   "metadata": {},
   "outputs": [
    {
     "name": "stdout",
     "output_type": "stream",
     "text": [
      "原数组：\n",
      "[[[0 1]\n",
      "  [2 3]]\n",
      "\n",
      " [[4 5]\n",
      "  [6 7]]]\n",
      "\n",
      "\n",
      "调用 rollaxis 函数：\n",
      "[[[0 2]\n",
      "  [4 6]]\n",
      "\n",
      " [[1 3]\n",
      "  [5 7]]]\n",
      "\n",
      "\n",
      "调用 rollaxis 函数：\n",
      "[[[0 2]\n",
      "  [1 3]]\n",
      "\n",
      " [[4 6]\n",
      "  [5 7]]]\n"
     ]
    }
   ],
   "source": [
    "import numpy as np\n",
    " \n",
    "# 创建了三维的 ndarray\n",
    "a = np.arange(8).reshape(2,2,2)\n",
    " \n",
    "print ('原数组：')\n",
    "print (a)\n",
    "print ('\\n')\n",
    "# 将轴 2 滚动到轴 0（宽度到深度）\n",
    " \n",
    "print ('调用 rollaxis 函数：')\n",
    "print (np.rollaxis(a,2))\n",
    "# 将轴 0 滚动到轴 1：（宽度到高度）\n",
    "print ('\\n')\n",
    " \n",
    "print ('调用 rollaxis 函数：')\n",
    "print (np.rollaxis(a,2,1))"
   ]
  },
  {
   "cell_type": "code",
   "execution_count": 57,
   "metadata": {},
   "outputs": [
    {
     "name": "stdout",
     "output_type": "stream",
     "text": [
      "[[[0 4]\n",
      "  [2 6]]\n",
      "\n",
      " [[1 5]\n",
      "  [3 7]]]\n"
     ]
    }
   ],
   "source": [
    "#numpy.swapaxes\n",
    "#numpy.swapaxes 函数用于交换数组的两个轴，格式如下：\n",
    "# numpy.swapaxes(arr, axis1, axis2)\n",
    "# arr：输入的数组\n",
    "# axis1：对应第一个轴的整数\n",
    "# axis2：对应第二个轴的整数\n",
    "print(a.T)"
   ]
  },
  {
   "cell_type": "code",
   "execution_count": 56,
   "metadata": {},
   "outputs": [
    {
     "name": "stdout",
     "output_type": "stream",
     "text": [
      "原数组：\n",
      "[[[0 1]\n",
      "  [2 3]]\n",
      "\n",
      " [[4 5]\n",
      "  [6 7]]]\n",
      "\n",
      "\n",
      "调用 swapaxes 函数后的数组：\n",
      "[[[0 4]\n",
      "  [2 6]]\n",
      "\n",
      " [[1 5]\n",
      "  [3 7]]]\n"
     ]
    }
   ],
   "source": [
    "import numpy as np\n",
    " \n",
    "# 创建了三维的 ndarray\n",
    "a = np.arange(8).reshape(2,2,2)\n",
    " \n",
    "print ('原数组：')\n",
    "print (a)\n",
    "print ('\\n')\n",
    "# 现在交换轴 0（深度方向）到轴 2（宽度方向）\n",
    " \n",
    "print ('调用 swapaxes 函数后的数组：')\n",
    "print (np.swapaxes(a, 2, 0))"
   ]
  },
  {
   "cell_type": "code",
   "execution_count": 58,
   "metadata": {},
   "outputs": [],
   "source": [
    "# 修改数组维度\n",
    "# numpy.broadcast\n",
    "# numpy.broadcast 用于模仿广播的对象，它返回一个对象，\n",
    "# 该对象封装了将一个数组广播到另一个数组的结果。\n",
    "\n",
    "# 该函数使用两个数组作为输入参数，如下实例："
   ]
  },
  {
   "cell_type": "code",
   "execution_count": 62,
   "metadata": {},
   "outputs": [
    {
     "name": "stdout",
     "output_type": "stream",
     "text": [
      "对y 广播x:\n",
      "1 4\n",
      "1 5\n",
      "\n",
      "\n",
      "广播对象的形状：\n",
      "(3, 3)\n",
      "\n",
      "\n",
      "手动使用 broadcast 将 x 与 y 相加：\n",
      "(3, 3)\n",
      "\n",
      "\n",
      "调用 flat 函数：\n",
      "[[5. 6. 7.]\n",
      " [6. 7. 8.]\n",
      " [7. 8. 9.]]\n",
      "\n",
      "\n",
      "x 与 y 的和：\n",
      "[[5 6 7]\n",
      " [6 7 8]\n",
      " [7 8 9]]\n"
     ]
    }
   ],
   "source": [
    "import numpy as np\n",
    "\n",
    "x = np.array([[1], [2,], [3]])\n",
    "y = np.array([4, 5, 6])\n",
    "\n",
    "# 对y 广播 x\n",
    "b = np.broadcast(x, y)\n",
    "# 它拥有 iterator 属性，基于自身组件的迭代器元组\n",
    "print('对y 广播x:')\n",
    "r, c = b.iters\n",
    "# Python3.x 为 next(context) ，Python2.x 为 context.next()\n",
    "print (next(r), next(c))\n",
    "print (next(r), next(c))\n",
    "print ('\\n')\n",
    "# shape 属性返回广播对象的形状\n",
    " \n",
    "print ('广播对象的形状：')\n",
    "print (b.shape)\n",
    "print ('\\n')\n",
    "# 手动使用 broadcast 将 x 与 y 相加\n",
    "b = np.broadcast(x,y)\n",
    "c = np.empty(b.shape)\n",
    " \n",
    "print ('手动使用 broadcast 将 x 与 y 相加：')\n",
    "print (c.shape)\n",
    "print ('\\n')\n",
    "c.flat = [u + v for (u,v) in b]\n",
    " \n",
    "print ('调用 flat 函数：')\n",
    "print (c)\n",
    "print ('\\n')\n",
    "# 获得了和 NumPy 内建的广播支持相同的结果\n",
    " \n",
    "print ('x 与 y 的和：')\n",
    "print (x + y)"
   ]
  },
  {
   "cell_type": "code",
   "execution_count": null,
   "metadata": {},
   "outputs": [],
   "source": [
    "# numpy.broadcast_to\n",
    "# numpy.broadcast_to 函数将数组广播到新形状。它在原始数组上返回只读视图。 它通常不连续。\n",
    "# 如果新形状不符合 NumPy 的广播规则，该函数可能会抛出ValueError。\n",
    "# numpy.broadcast_to(array, shape, subok)"
   ]
  },
  {
   "cell_type": "code",
   "execution_count": 63,
   "metadata": {},
   "outputs": [
    {
     "name": "stdout",
     "output_type": "stream",
     "text": [
      "原数组：\n",
      "[[0 1 2 3]]\n",
      "\n",
      "\n",
      "调用 broadcast_to 函数之后：\n",
      "[[0 1 2 3]\n",
      " [0 1 2 3]\n",
      " [0 1 2 3]\n",
      " [0 1 2 3]]\n"
     ]
    }
   ],
   "source": [
    "import numpy as np\n",
    " \n",
    "a = np.arange(4).reshape(1,4)\n",
    " \n",
    "print ('原数组：')\n",
    "print (a)\n",
    "print ('\\n')\n",
    " \n",
    "print ('调用 broadcast_to 函数之后：')\n",
    "print (np.broadcast_to(a,(4,4)))\n"
   ]
  },
  {
   "cell_type": "code",
   "execution_count": 64,
   "metadata": {},
   "outputs": [],
   "source": [
    "# numpy.expand_dims\n",
    "# numpy.expand_dims 函数通过在指定位置插入新的轴来扩展数组形状，函数格式如下:\n",
    "# numpy.expand_dims(arr, axis)\n",
    "# arr：输入数组\n",
    "# axis：新轴插入的位置"
   ]
  },
  {
   "cell_type": "code",
   "execution_count": 74,
   "metadata": {},
   "outputs": [
    {
     "name": "stdout",
     "output_type": "stream",
     "text": [
      "数组x:\n",
      "[[1 2]\n",
      " [3 4]]\n",
      "\n",
      "\n",
      "数组y:\n",
      "[[[1 2]\n",
      "  [3 4]]]\n",
      "\n",
      "\n",
      "数组 x 和 y 的形状：\n",
      "(2, 2) (1, 2, 2)\n",
      "\n",
      "\n",
      "在位置 1 插入轴之后的数组 y：\n",
      "[[[1 2]]\n",
      "\n",
      " [[3 4]]]\n",
      "\n",
      "\n",
      "x.ndim 和 y.ndim：\n",
      "2 3\n",
      "\n",
      "\n",
      "x.shape 和 y.shape：\n",
      "(2, 2) (2, 1, 2)\n"
     ]
    }
   ],
   "source": [
    "import numpy as np\n",
    "\n",
    "#x = np.array(([1,2], [3, 4]))\n",
    "x = np.arange(1,5).reshape(2,2) # 与上面那创建数组的方法效果一样\n",
    "\n",
    "print('数组x:')\n",
    "print(x)\n",
    "print('\\n')\n",
    "y = np.expand_dims(x, axis = 0)\n",
    "\n",
    "print('数组y:')\n",
    "print(y)\n",
    "print('\\n')\n",
    "\n",
    "print ('数组 x 和 y 的形状：')\n",
    "print (x.shape, y.shape)\n",
    "print ('\\n')\n",
    "# 在位置 1 插入轴\n",
    "y = np.expand_dims(x, axis = 1)\n",
    "\n",
    "print ('在位置 1 插入轴之后的数组 y：')\n",
    "print (y)\n",
    "print ('\\n')\n",
    "\n",
    "print ('x.ndim 和 y.ndim：')\n",
    "print (x.ndim,y.ndim)\n",
    "print ('\\n')\n",
    " \n",
    "print ('x.shape 和 y.shape：')\n",
    "print (x.shape, y.shape)"
   ]
  },
  {
   "cell_type": "code",
   "execution_count": null,
   "metadata": {},
   "outputs": [],
   "source": []
  },
  {
   "cell_type": "code",
   "execution_count": null,
   "metadata": {},
   "outputs": [],
   "source": []
  },
  {
   "cell_type": "code",
   "execution_count": null,
   "metadata": {},
   "outputs": [],
   "source": [
    "\n"
   ]
  },
  {
   "cell_type": "code",
   "execution_count": null,
   "metadata": {},
   "outputs": [],
   "source": []
  },
  {
   "cell_type": "code",
   "execution_count": null,
   "metadata": {},
   "outputs": [],
   "source": []
  }
 ],
 "metadata": {
  "kernelspec": {
   "display_name": "Python 3",
   "language": "python",
   "name": "python3"
  },
  "language_info": {
   "codemirror_mode": {
    "name": "ipython",
    "version": 3
   },
   "file_extension": ".py",
   "mimetype": "text/x-python",
   "name": "python",
   "nbconvert_exporter": "python",
   "pygments_lexer": "ipython3",
   "version": "3.7.3"
  }
 },
 "nbformat": 4,
 "nbformat_minor": 2
}
